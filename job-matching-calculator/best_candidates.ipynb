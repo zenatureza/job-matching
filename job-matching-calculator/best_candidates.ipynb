{
  "nbformat": 4,
  "nbformat_minor": 0,
  "metadata": {
    "colab": {
      "name": "best_candidates.ipynb",
      "provenance": []
    },
    "kernelspec": {
      "name": "python3",
      "display_name": "Python 3"
    }
  },
  "cells": [
    {
      "cell_type": "code",
      "metadata": {
        "id": "zw_ezJ9raY9b"
      },
      "source": [
        "import numpy as np\r\n",
        "import pandas as pd\r\n",
        "\r\n",
        "from sklearn.preprocessing import OneHotEncoder"
      ],
      "execution_count": 69,
      "outputs": []
    },
    {
      "cell_type": "code",
      "metadata": {
        "id": "2k87eHkkadYN"
      },
      "source": [
        "df = pd.read_csv('/content/candidates_view_202102071829.csv')"
      ],
      "execution_count": 70,
      "outputs": []
    },
    {
      "cell_type": "code",
      "metadata": {
        "id": "zavEyISNjPnj"
      },
      "source": [
        "df['end_experience_range'] = df['end_experience_range'].apply(lambda x: 50 if x == 0 else x)"
      ],
      "execution_count": 71,
      "outputs": []
    },
    {
      "cell_type": "code",
      "metadata": {
        "id": "vEIww_hyahJv"
      },
      "source": [
        "df['is_main_tech'] = df['is_main_tech'].apply(lambda x: 1 if x == True else 0) "
      ],
      "execution_count": 72,
      "outputs": []
    },
    {
      "cell_type": "code",
      "metadata": {
        "colab": {
          "base_uri": "https://localhost:8080/",
          "height": 353
        },
        "id": "I4-2tpJMjco-",
        "outputId": "218b6eff-f369-4e52-b7dd-d0dfca8e25f3"
      },
      "source": [
        "df.head()"
      ],
      "execution_count": 73,
      "outputs": [
        {
          "output_type": "execute_result",
          "data": {
            "text/html": [
              "<div>\n",
              "<style scoped>\n",
              "    .dataframe tbody tr th:only-of-type {\n",
              "        vertical-align: middle;\n",
              "    }\n",
              "\n",
              "    .dataframe tbody tr th {\n",
              "        vertical-align: top;\n",
              "    }\n",
              "\n",
              "    .dataframe thead th {\n",
              "        text-align: right;\n",
              "    }\n",
              "</style>\n",
              "<table border=\"1\" class=\"dataframe\">\n",
              "  <thead>\n",
              "    <tr style=\"text-align: right;\">\n",
              "      <th></th>\n",
              "      <th>id</th>\n",
              "      <th>technology_id</th>\n",
              "      <th>city_id</th>\n",
              "      <th>start_experience_range</th>\n",
              "      <th>end_experience_range</th>\n",
              "      <th>candidate_id</th>\n",
              "      <th>is_main_tech</th>\n",
              "      <th>state_initials</th>\n",
              "    </tr>\n",
              "  </thead>\n",
              "  <tbody>\n",
              "    <tr>\n",
              "      <th>0</th>\n",
              "      <td>b0bd826e-df57-4ebc-bba2-0e2e647f545a</td>\n",
              "      <td>309aa1d1-9a4f-4ac7-b2fe-977a45c3b759</td>\n",
              "      <td>a4693726-8e5a-43b8-81eb-028c7fa249ac</td>\n",
              "      <td>12</td>\n",
              "      <td>50</td>\n",
              "      <td>532252df-92dd-47ab-95ea-3a725071fdaa</td>\n",
              "      <td>1</td>\n",
              "      <td>RJ</td>\n",
              "    </tr>\n",
              "    <tr>\n",
              "      <th>1</th>\n",
              "      <td>846655e6-e866-4338-ad1c-ba6b3c5f0339</td>\n",
              "      <td>b2d2b12c-9759-4077-a9aa-d0156ed68ba4</td>\n",
              "      <td>a4693726-8e5a-43b8-81eb-028c7fa249ac</td>\n",
              "      <td>12</td>\n",
              "      <td>50</td>\n",
              "      <td>532252df-92dd-47ab-95ea-3a725071fdaa</td>\n",
              "      <td>0</td>\n",
              "      <td>RJ</td>\n",
              "    </tr>\n",
              "    <tr>\n",
              "      <th>2</th>\n",
              "      <td>c68a65f9-f7ea-4bd1-a13f-b9976022f441</td>\n",
              "      <td>65477459-0373-42a6-9f8e-89715660e120</td>\n",
              "      <td>a4693726-8e5a-43b8-81eb-028c7fa249ac</td>\n",
              "      <td>12</td>\n",
              "      <td>50</td>\n",
              "      <td>532252df-92dd-47ab-95ea-3a725071fdaa</td>\n",
              "      <td>0</td>\n",
              "      <td>RJ</td>\n",
              "    </tr>\n",
              "    <tr>\n",
              "      <th>3</th>\n",
              "      <td>b5d67641-1f17-4c23-8fcc-54f549363a58</td>\n",
              "      <td>db091d5d-a65d-44f9-8182-304ae6f72a25</td>\n",
              "      <td>a4693726-8e5a-43b8-81eb-028c7fa249ac</td>\n",
              "      <td>12</td>\n",
              "      <td>50</td>\n",
              "      <td>532252df-92dd-47ab-95ea-3a725071fdaa</td>\n",
              "      <td>0</td>\n",
              "      <td>RJ</td>\n",
              "    </tr>\n",
              "    <tr>\n",
              "      <th>4</th>\n",
              "      <td>3eb7f7ee-170e-431e-b87c-08b7a39318d6</td>\n",
              "      <td>777743a7-aaed-4365-872d-ef3746a35043</td>\n",
              "      <td>a4693726-8e5a-43b8-81eb-028c7fa249ac</td>\n",
              "      <td>12</td>\n",
              "      <td>50</td>\n",
              "      <td>532252df-92dd-47ab-95ea-3a725071fdaa</td>\n",
              "      <td>0</td>\n",
              "      <td>RJ</td>\n",
              "    </tr>\n",
              "  </tbody>\n",
              "</table>\n",
              "</div>"
            ],
            "text/plain": [
              "                                     id  ... state_initials\n",
              "0  b0bd826e-df57-4ebc-bba2-0e2e647f545a  ...             RJ\n",
              "1  846655e6-e866-4338-ad1c-ba6b3c5f0339  ...             RJ\n",
              "2  c68a65f9-f7ea-4bd1-a13f-b9976022f441  ...             RJ\n",
              "3  b5d67641-1f17-4c23-8fcc-54f549363a58  ...             RJ\n",
              "4  3eb7f7ee-170e-431e-b87c-08b7a39318d6  ...             RJ\n",
              "\n",
              "[5 rows x 8 columns]"
            ]
          },
          "metadata": {
            "tags": []
          },
          "execution_count": 73
        }
      ]
    },
    {
      "cell_type": "code",
      "metadata": {
        "id": "NaLG-NTMeeMW"
      },
      "source": [
        "jobs = pd.read_csv('jobs.csv')"
      ],
      "execution_count": 74,
      "outputs": []
    },
    {
      "cell_type": "code",
      "metadata": {
        "colab": {
          "base_uri": "https://localhost:8080/",
          "height": 92
        },
        "id": "XVkPXcO_egvK",
        "outputId": "d20cf35c-632a-4efb-e845-7d92aacd16f2"
      },
      "source": [
        "jobs.head()"
      ],
      "execution_count": 75,
      "outputs": [
        {
          "output_type": "execute_result",
          "data": {
            "text/html": [
              "<div>\n",
              "<style scoped>\n",
              "    .dataframe tbody tr th:only-of-type {\n",
              "        vertical-align: middle;\n",
              "    }\n",
              "\n",
              "    .dataframe tbody tr th {\n",
              "        vertical-align: top;\n",
              "    }\n",
              "\n",
              "    .dataframe thead th {\n",
              "        text-align: right;\n",
              "    }\n",
              "</style>\n",
              "<table border=\"1\" class=\"dataframe\">\n",
              "  <thead>\n",
              "    <tr style=\"text-align: right;\">\n",
              "      <th></th>\n",
              "      <th>id</th>\n",
              "      <th>technology_id</th>\n",
              "      <th>city_id</th>\n",
              "      <th>start_experience_range</th>\n",
              "      <th>end_experience_range</th>\n",
              "      <th>state_initials</th>\n",
              "    </tr>\n",
              "  </thead>\n",
              "  <tbody>\n",
              "    <tr>\n",
              "      <th>0</th>\n",
              "      <td>b0bd826e-df57-4ebc-bba2-0e2e647f545a</td>\n",
              "      <td>309aa1d1-9a4f-4ac7-b2fe-977a45c3b759</td>\n",
              "      <td>a4693726-8e5a-43b8-81eb-028c7fa249ac</td>\n",
              "      <td>4</td>\n",
              "      <td>5</td>\n",
              "      <td>RJ</td>\n",
              "    </tr>\n",
              "  </tbody>\n",
              "</table>\n",
              "</div>"
            ],
            "text/plain": [
              "                                     id  ... state_initials\n",
              "0  b0bd826e-df57-4ebc-bba2-0e2e647f545a  ...             RJ\n",
              "\n",
              "[1 rows x 6 columns]"
            ]
          },
          "metadata": {
            "tags": []
          },
          "execution_count": 75
        }
      ]
    },
    {
      "cell_type": "code",
      "metadata": {
        "id": "v65-PETgcL31"
      },
      "source": [
        "def find_best_candidates(job, candidates):\r\n",
        "  tech = job['technology_id'].values\r\n",
        "  city = job['city_id'].values\r\n",
        "  start_exp = job['start_experience_range'].values\r\n",
        "  end_exp = job['end_experience_range'].values\r\n",
        "  state = job['state_initials'].values\r\n",
        "\r\n",
        "  candidates['score'] = 1\r\n",
        "\r\n",
        "  for row in range(0,len(candidates)):\r\n",
        "    if candidates['city_id'][row] == city:\r\n",
        "      candidates['score'][row] = candidates['score'][row]*2\r\n",
        "    else:\r\n",
        "      candidates['score'][row] = candidates['score'][row]*1\r\n",
        "    \r\n",
        "    if candidates['state_initials'][row] == state:\r\n",
        "      candidates['score'][row] = candidates['score'][row]*2\r\n",
        "    else:\r\n",
        "      candidates['score'][row] = candidates['score'][row]*1\r\n",
        " \r\n",
        "    \r\n",
        "    if (candidates['technology_id'][row] in tech) & (candidates['is_main_tech'][row] == 1):\r\n",
        "      candidates['score'][row] = candidates['score'][row]*5\r\n",
        "    elif (candidates['technology_id'][row] in tech) & (candidates['is_main_tech'][row] == 0):\r\n",
        "      candidates['score'][row] = candidates['score'][row]*2.5\r\n",
        "    else:\r\n",
        "      candidates['score'][row] = candidates['score'][row]*1\r\n",
        "\r\n",
        "    if (candidates['start_experience_range'][row] == start_exp) & (candidates['end_experience_range'][row] == end_exp):\r\n",
        "        candidates['score'][row] = candidates['score'][row]*3\r\n",
        "    else:\r\n",
        "        candidates['score'][row] = candidates['score'][row]*1\r\n",
        "\r\n",
        "  return candidates\r\n",
        "    \r\n",
        "    \r\n"
      ],
      "execution_count": 153,
      "outputs": []
    },
    {
      "cell_type": "code",
      "metadata": {
        "colab": {
          "base_uri": "https://localhost:8080/"
        },
        "id": "i-xqo4cRh7Bp",
        "outputId": "83061894-4e32-417f-f50e-a14f4cf99d03"
      },
      "source": [
        "df_final = find_best_candidates(jobs, df)"
      ],
      "execution_count": 154,
      "outputs": [
        {
          "output_type": "stream",
          "text": [
            "/usr/local/lib/python3.6/dist-packages/ipykernel_launcher.py:12: SettingWithCopyWarning: \n",
            "A value is trying to be set on a copy of a slice from a DataFrame\n",
            "\n",
            "See the caveats in the documentation: https://pandas.pydata.org/pandas-docs/stable/user_guide/indexing.html#returning-a-view-versus-a-copy\n",
            "  if sys.path[0] == '':\n",
            "/usr/local/lib/python3.6/dist-packages/ipykernel_launcher.py:17: SettingWithCopyWarning: \n",
            "A value is trying to be set on a copy of a slice from a DataFrame\n",
            "\n",
            "See the caveats in the documentation: https://pandas.pydata.org/pandas-docs/stable/user_guide/indexing.html#returning-a-view-versus-a-copy\n",
            "/usr/local/lib/python3.6/dist-packages/ipykernel_launcher.py:23: SettingWithCopyWarning: \n",
            "A value is trying to be set on a copy of a slice from a DataFrame\n",
            "\n",
            "See the caveats in the documentation: https://pandas.pydata.org/pandas-docs/stable/user_guide/indexing.html#returning-a-view-versus-a-copy\n",
            "/usr/local/lib/python3.6/dist-packages/ipykernel_launcher.py:32: SettingWithCopyWarning: \n",
            "A value is trying to be set on a copy of a slice from a DataFrame\n",
            "\n",
            "See the caveats in the documentation: https://pandas.pydata.org/pandas-docs/stable/user_guide/indexing.html#returning-a-view-versus-a-copy\n",
            "/usr/local/lib/python3.6/dist-packages/ipykernel_launcher.py:27: SettingWithCopyWarning: \n",
            "A value is trying to be set on a copy of a slice from a DataFrame\n",
            "\n",
            "See the caveats in the documentation: https://pandas.pydata.org/pandas-docs/stable/user_guide/indexing.html#returning-a-view-versus-a-copy\n",
            "/usr/local/lib/python3.6/dist-packages/ipykernel_launcher.py:14: SettingWithCopyWarning: \n",
            "A value is trying to be set on a copy of a slice from a DataFrame\n",
            "\n",
            "See the caveats in the documentation: https://pandas.pydata.org/pandas-docs/stable/user_guide/indexing.html#returning-a-view-versus-a-copy\n",
            "  \n",
            "/usr/local/lib/python3.6/dist-packages/ipykernel_launcher.py:19: SettingWithCopyWarning: \n",
            "A value is trying to be set on a copy of a slice from a DataFrame\n",
            "\n",
            "See the caveats in the documentation: https://pandas.pydata.org/pandas-docs/stable/user_guide/indexing.html#returning-a-view-versus-a-copy\n",
            "/usr/local/lib/python3.6/dist-packages/ipykernel_launcher.py:30: SettingWithCopyWarning: \n",
            "A value is trying to be set on a copy of a slice from a DataFrame\n",
            "\n",
            "See the caveats in the documentation: https://pandas.pydata.org/pandas-docs/stable/user_guide/indexing.html#returning-a-view-versus-a-copy\n",
            "/usr/local/lib/python3.6/dist-packages/ipykernel_launcher.py:25: SettingWithCopyWarning: \n",
            "A value is trying to be set on a copy of a slice from a DataFrame\n",
            "\n",
            "See the caveats in the documentation: https://pandas.pydata.org/pandas-docs/stable/user_guide/indexing.html#returning-a-view-versus-a-copy\n"
          ],
          "name": "stderr"
        }
      ]
    },
    {
      "cell_type": "code",
      "metadata": {
        "id": "iTKG9CNUiPH5"
      },
      "source": [
        "df_score = df_final.groupby('candidate_id')['score'].mean().reset_index()"
      ],
      "execution_count": 155,
      "outputs": []
    },
    {
      "cell_type": "code",
      "metadata": {
        "id": "j5mtLcEulG65"
      },
      "source": [
        "best_5 = df_score.sort_values('score', ascending = False)[:5].reset_index()"
      ],
      "execution_count": 156,
      "outputs": []
    },
    {
      "cell_type": "code",
      "metadata": {
        "colab": {
          "base_uri": "https://localhost:8080/",
          "height": 191
        },
        "id": "st2H8jatn8hp",
        "outputId": "62040070-7717-492c-b68e-98733b22fda5"
      },
      "source": [
        "best_5"
      ],
      "execution_count": 157,
      "outputs": [
        {
          "output_type": "execute_result",
          "data": {
            "text/html": [
              "<div>\n",
              "<style scoped>\n",
              "    .dataframe tbody tr th:only-of-type {\n",
              "        vertical-align: middle;\n",
              "    }\n",
              "\n",
              "    .dataframe tbody tr th {\n",
              "        vertical-align: top;\n",
              "    }\n",
              "\n",
              "    .dataframe thead th {\n",
              "        text-align: right;\n",
              "    }\n",
              "</style>\n",
              "<table border=\"1\" class=\"dataframe\">\n",
              "  <thead>\n",
              "    <tr style=\"text-align: right;\">\n",
              "      <th></th>\n",
              "      <th>index</th>\n",
              "      <th>candidate_id</th>\n",
              "      <th>score</th>\n",
              "    </tr>\n",
              "  </thead>\n",
              "  <tbody>\n",
              "    <tr>\n",
              "      <th>0</th>\n",
              "      <td>97</td>\n",
              "      <td>f82e3bfd-efe1-4814-b5d2-5c6ea37f6bae</td>\n",
              "      <td>6.000000</td>\n",
              "    </tr>\n",
              "    <tr>\n",
              "      <th>1</th>\n",
              "      <td>71</td>\n",
              "      <td>bbead861-c357-4d24-b9ac-ba5122957c10</td>\n",
              "      <td>5.454545</td>\n",
              "    </tr>\n",
              "    <tr>\n",
              "      <th>2</th>\n",
              "      <td>29</td>\n",
              "      <td>532252df-92dd-47ab-95ea-3a725071fdaa</td>\n",
              "      <td>5.142857</td>\n",
              "    </tr>\n",
              "    <tr>\n",
              "      <th>3</th>\n",
              "      <td>27</td>\n",
              "      <td>4db9f999-996a-4710-9740-21c76e98954c</td>\n",
              "      <td>5.066667</td>\n",
              "    </tr>\n",
              "    <tr>\n",
              "      <th>4</th>\n",
              "      <td>47</td>\n",
              "      <td>83c65bbc-5951-4a04-a4a1-ddadbd74cfc9</td>\n",
              "      <td>4.600000</td>\n",
              "    </tr>\n",
              "  </tbody>\n",
              "</table>\n",
              "</div>"
            ],
            "text/plain": [
              "   index                          candidate_id     score\n",
              "0     97  f82e3bfd-efe1-4814-b5d2-5c6ea37f6bae  6.000000\n",
              "1     71  bbead861-c357-4d24-b9ac-ba5122957c10  5.454545\n",
              "2     29  532252df-92dd-47ab-95ea-3a725071fdaa  5.142857\n",
              "3     27  4db9f999-996a-4710-9740-21c76e98954c  5.066667\n",
              "4     47  83c65bbc-5951-4a04-a4a1-ddadbd74cfc9  4.600000"
            ]
          },
          "metadata": {
            "tags": []
          },
          "execution_count": 157
        }
      ]
    },
    {
      "cell_type": "code",
      "metadata": {
        "colab": {
          "base_uri": "https://localhost:8080/",
          "height": 92
        },
        "id": "jq16mbXZoXL1",
        "outputId": "da3a92fe-2e4b-4797-8edd-cae399480af1"
      },
      "source": [
        "jobs"
      ],
      "execution_count": 158,
      "outputs": [
        {
          "output_type": "execute_result",
          "data": {
            "text/html": [
              "<div>\n",
              "<style scoped>\n",
              "    .dataframe tbody tr th:only-of-type {\n",
              "        vertical-align: middle;\n",
              "    }\n",
              "\n",
              "    .dataframe tbody tr th {\n",
              "        vertical-align: top;\n",
              "    }\n",
              "\n",
              "    .dataframe thead th {\n",
              "        text-align: right;\n",
              "    }\n",
              "</style>\n",
              "<table border=\"1\" class=\"dataframe\">\n",
              "  <thead>\n",
              "    <tr style=\"text-align: right;\">\n",
              "      <th></th>\n",
              "      <th>id</th>\n",
              "      <th>technology_id</th>\n",
              "      <th>city_id</th>\n",
              "      <th>start_experience_range</th>\n",
              "      <th>end_experience_range</th>\n",
              "      <th>state_initials</th>\n",
              "    </tr>\n",
              "  </thead>\n",
              "  <tbody>\n",
              "    <tr>\n",
              "      <th>0</th>\n",
              "      <td>b0bd826e-df57-4ebc-bba2-0e2e647f545a</td>\n",
              "      <td>309aa1d1-9a4f-4ac7-b2fe-977a45c3b759</td>\n",
              "      <td>a4693726-8e5a-43b8-81eb-028c7fa249ac</td>\n",
              "      <td>4</td>\n",
              "      <td>5</td>\n",
              "      <td>RJ</td>\n",
              "    </tr>\n",
              "  </tbody>\n",
              "</table>\n",
              "</div>"
            ],
            "text/plain": [
              "                                     id  ... state_initials\n",
              "0  b0bd826e-df57-4ebc-bba2-0e2e647f545a  ...             RJ\n",
              "\n",
              "[1 rows x 6 columns]"
            ]
          },
          "metadata": {
            "tags": []
          },
          "execution_count": 158
        }
      ]
    },
    {
      "cell_type": "code",
      "metadata": {
        "colab": {
          "base_uri": "https://localhost:8080/",
          "height": 782
        },
        "id": "DMlY7jzOhmJv",
        "outputId": "c3c06129-1f89-4f62-e092-2168c331e440"
      },
      "source": [
        "df[df['candidate_id'] == best_5['candidate_id'][0]]"
      ],
      "execution_count": 159,
      "outputs": [
        {
          "output_type": "execute_result",
          "data": {
            "text/html": [
              "<div>\n",
              "<style scoped>\n",
              "    .dataframe tbody tr th:only-of-type {\n",
              "        vertical-align: middle;\n",
              "    }\n",
              "\n",
              "    .dataframe tbody tr th {\n",
              "        vertical-align: top;\n",
              "    }\n",
              "\n",
              "    .dataframe thead th {\n",
              "        text-align: right;\n",
              "    }\n",
              "</style>\n",
              "<table border=\"1\" class=\"dataframe\">\n",
              "  <thead>\n",
              "    <tr style=\"text-align: right;\">\n",
              "      <th></th>\n",
              "      <th>id</th>\n",
              "      <th>technology_id</th>\n",
              "      <th>city_id</th>\n",
              "      <th>start_experience_range</th>\n",
              "      <th>end_experience_range</th>\n",
              "      <th>candidate_id</th>\n",
              "      <th>is_main_tech</th>\n",
              "      <th>state_initials</th>\n",
              "      <th>score</th>\n",
              "    </tr>\n",
              "  </thead>\n",
              "  <tbody>\n",
              "    <tr>\n",
              "      <th>230</th>\n",
              "      <td>0ffd5391-6542-42e0-868a-abd21a00185f</td>\n",
              "      <td>65477459-0373-42a6-9f8e-89715660e120</td>\n",
              "      <td>e22560fd-6b3f-449f-adc8-2de5849c7527</td>\n",
              "      <td>4</td>\n",
              "      <td>5</td>\n",
              "      <td>f82e3bfd-efe1-4814-b5d2-5c6ea37f6bae</td>\n",
              "      <td>0</td>\n",
              "      <td>RJ</td>\n",
              "      <td>6</td>\n",
              "    </tr>\n",
              "    <tr>\n",
              "      <th>231</th>\n",
              "      <td>261557ae-90e6-47eb-a2b2-40b5a97ee322</td>\n",
              "      <td>825acba7-e8f2-4735-8126-d32370b728cd</td>\n",
              "      <td>e22560fd-6b3f-449f-adc8-2de5849c7527</td>\n",
              "      <td>4</td>\n",
              "      <td>5</td>\n",
              "      <td>f82e3bfd-efe1-4814-b5d2-5c6ea37f6bae</td>\n",
              "      <td>0</td>\n",
              "      <td>RJ</td>\n",
              "      <td>6</td>\n",
              "    </tr>\n",
              "    <tr>\n",
              "      <th>232</th>\n",
              "      <td>f057f656-3ead-4f69-8790-a545fdacea4e</td>\n",
              "      <td>c48415f7-4a86-4b0e-8b10-13a68b01475c</td>\n",
              "      <td>e22560fd-6b3f-449f-adc8-2de5849c7527</td>\n",
              "      <td>4</td>\n",
              "      <td>5</td>\n",
              "      <td>f82e3bfd-efe1-4814-b5d2-5c6ea37f6bae</td>\n",
              "      <td>0</td>\n",
              "      <td>RJ</td>\n",
              "      <td>6</td>\n",
              "    </tr>\n",
              "    <tr>\n",
              "      <th>233</th>\n",
              "      <td>ae9544fc-5c3e-4db1-8407-d7e9ba592fe8</td>\n",
              "      <td>c4379e3f-4898-4ce1-88c8-5f5cd9f64419</td>\n",
              "      <td>e22560fd-6b3f-449f-adc8-2de5849c7527</td>\n",
              "      <td>4</td>\n",
              "      <td>5</td>\n",
              "      <td>f82e3bfd-efe1-4814-b5d2-5c6ea37f6bae</td>\n",
              "      <td>1</td>\n",
              "      <td>RJ</td>\n",
              "      <td>6</td>\n",
              "    </tr>\n",
              "    <tr>\n",
              "      <th>234</th>\n",
              "      <td>7cb35d07-f6f9-42f5-9f61-8285678512e3</td>\n",
              "      <td>e90bc524-e19c-4fd6-b01a-0acfb53b31ce</td>\n",
              "      <td>e22560fd-6b3f-449f-adc8-2de5849c7527</td>\n",
              "      <td>4</td>\n",
              "      <td>5</td>\n",
              "      <td>f82e3bfd-efe1-4814-b5d2-5c6ea37f6bae</td>\n",
              "      <td>1</td>\n",
              "      <td>RJ</td>\n",
              "      <td>6</td>\n",
              "    </tr>\n",
              "    <tr>\n",
              "      <th>235</th>\n",
              "      <td>7a3b23e5-c9ac-4172-90d3-743709fa7690</td>\n",
              "      <td>8bc88bf5-25e7-479c-98ad-07fa6a6f4e26</td>\n",
              "      <td>e22560fd-6b3f-449f-adc8-2de5849c7527</td>\n",
              "      <td>4</td>\n",
              "      <td>5</td>\n",
              "      <td>f82e3bfd-efe1-4814-b5d2-5c6ea37f6bae</td>\n",
              "      <td>0</td>\n",
              "      <td>RJ</td>\n",
              "      <td>6</td>\n",
              "    </tr>\n",
              "    <tr>\n",
              "      <th>236</th>\n",
              "      <td>88bc3732-17ca-4dc9-beec-174e3058957f</td>\n",
              "      <td>09a49dad-3ab6-4e6c-b852-85dbe33c56a0</td>\n",
              "      <td>e22560fd-6b3f-449f-adc8-2de5849c7527</td>\n",
              "      <td>4</td>\n",
              "      <td>5</td>\n",
              "      <td>f82e3bfd-efe1-4814-b5d2-5c6ea37f6bae</td>\n",
              "      <td>0</td>\n",
              "      <td>RJ</td>\n",
              "      <td>6</td>\n",
              "    </tr>\n",
              "    <tr>\n",
              "      <th>237</th>\n",
              "      <td>0978458a-4275-48aa-b6bf-00c5f209d6b5</td>\n",
              "      <td>daccdf72-e4b0-42f8-ba98-e647ced43f8a</td>\n",
              "      <td>e22560fd-6b3f-449f-adc8-2de5849c7527</td>\n",
              "      <td>4</td>\n",
              "      <td>5</td>\n",
              "      <td>f82e3bfd-efe1-4814-b5d2-5c6ea37f6bae</td>\n",
              "      <td>0</td>\n",
              "      <td>RJ</td>\n",
              "      <td>6</td>\n",
              "    </tr>\n",
              "    <tr>\n",
              "      <th>238</th>\n",
              "      <td>d7d5739f-381b-4e57-8a3f-40bb083c04d1</td>\n",
              "      <td>4ce42640-0125-421d-a239-3b0b19125087</td>\n",
              "      <td>e22560fd-6b3f-449f-adc8-2de5849c7527</td>\n",
              "      <td>4</td>\n",
              "      <td>5</td>\n",
              "      <td>f82e3bfd-efe1-4814-b5d2-5c6ea37f6bae</td>\n",
              "      <td>0</td>\n",
              "      <td>RJ</td>\n",
              "      <td>6</td>\n",
              "    </tr>\n",
              "    <tr>\n",
              "      <th>239</th>\n",
              "      <td>4ce278a6-4945-44fd-999e-0ff36150f2e4</td>\n",
              "      <td>56850884-1231-4ecc-9cad-487ce1886d08</td>\n",
              "      <td>e22560fd-6b3f-449f-adc8-2de5849c7527</td>\n",
              "      <td>4</td>\n",
              "      <td>5</td>\n",
              "      <td>f82e3bfd-efe1-4814-b5d2-5c6ea37f6bae</td>\n",
              "      <td>0</td>\n",
              "      <td>RJ</td>\n",
              "      <td>6</td>\n",
              "    </tr>\n",
              "    <tr>\n",
              "      <th>240</th>\n",
              "      <td>ec507786-d781-4182-b1e3-0c7983c0ecf1</td>\n",
              "      <td>571ebf36-b0c5-4215-b209-f2cbece92720</td>\n",
              "      <td>e22560fd-6b3f-449f-adc8-2de5849c7527</td>\n",
              "      <td>4</td>\n",
              "      <td>5</td>\n",
              "      <td>f82e3bfd-efe1-4814-b5d2-5c6ea37f6bae</td>\n",
              "      <td>0</td>\n",
              "      <td>RJ</td>\n",
              "      <td>6</td>\n",
              "    </tr>\n",
              "    <tr>\n",
              "      <th>241</th>\n",
              "      <td>d8042174-6a25-4b43-a722-963af219ad42</td>\n",
              "      <td>0995a25a-0742-4631-9169-76097beb307e</td>\n",
              "      <td>e22560fd-6b3f-449f-adc8-2de5849c7527</td>\n",
              "      <td>4</td>\n",
              "      <td>5</td>\n",
              "      <td>f82e3bfd-efe1-4814-b5d2-5c6ea37f6bae</td>\n",
              "      <td>0</td>\n",
              "      <td>RJ</td>\n",
              "      <td>6</td>\n",
              "    </tr>\n",
              "  </tbody>\n",
              "</table>\n",
              "</div>"
            ],
            "text/plain": [
              "                                       id  ... score\n",
              "230  0ffd5391-6542-42e0-868a-abd21a00185f  ...     6\n",
              "231  261557ae-90e6-47eb-a2b2-40b5a97ee322  ...     6\n",
              "232  f057f656-3ead-4f69-8790-a545fdacea4e  ...     6\n",
              "233  ae9544fc-5c3e-4db1-8407-d7e9ba592fe8  ...     6\n",
              "234  7cb35d07-f6f9-42f5-9f61-8285678512e3  ...     6\n",
              "235  7a3b23e5-c9ac-4172-90d3-743709fa7690  ...     6\n",
              "236  88bc3732-17ca-4dc9-beec-174e3058957f  ...     6\n",
              "237  0978458a-4275-48aa-b6bf-00c5f209d6b5  ...     6\n",
              "238  d7d5739f-381b-4e57-8a3f-40bb083c04d1  ...     6\n",
              "239  4ce278a6-4945-44fd-999e-0ff36150f2e4  ...     6\n",
              "240  ec507786-d781-4182-b1e3-0c7983c0ecf1  ...     6\n",
              "241  d8042174-6a25-4b43-a722-963af219ad42  ...     6\n",
              "\n",
              "[12 rows x 9 columns]"
            ]
          },
          "metadata": {
            "tags": []
          },
          "execution_count": 159
        }
      ]
    },
    {
      "cell_type": "code",
      "metadata": {
        "colab": {
          "base_uri": "https://localhost:8080/",
          "height": 92
        },
        "id": "KrWM-GeylzFz",
        "outputId": "4a70372c-548a-4e15-d6d1-338572d46e88"
      },
      "source": [
        "jobs"
      ],
      "execution_count": 160,
      "outputs": [
        {
          "output_type": "execute_result",
          "data": {
            "text/html": [
              "<div>\n",
              "<style scoped>\n",
              "    .dataframe tbody tr th:only-of-type {\n",
              "        vertical-align: middle;\n",
              "    }\n",
              "\n",
              "    .dataframe tbody tr th {\n",
              "        vertical-align: top;\n",
              "    }\n",
              "\n",
              "    .dataframe thead th {\n",
              "        text-align: right;\n",
              "    }\n",
              "</style>\n",
              "<table border=\"1\" class=\"dataframe\">\n",
              "  <thead>\n",
              "    <tr style=\"text-align: right;\">\n",
              "      <th></th>\n",
              "      <th>id</th>\n",
              "      <th>technology_id</th>\n",
              "      <th>city_id</th>\n",
              "      <th>start_experience_range</th>\n",
              "      <th>end_experience_range</th>\n",
              "      <th>state_initials</th>\n",
              "    </tr>\n",
              "  </thead>\n",
              "  <tbody>\n",
              "    <tr>\n",
              "      <th>0</th>\n",
              "      <td>b0bd826e-df57-4ebc-bba2-0e2e647f545a</td>\n",
              "      <td>309aa1d1-9a4f-4ac7-b2fe-977a45c3b759</td>\n",
              "      <td>a4693726-8e5a-43b8-81eb-028c7fa249ac</td>\n",
              "      <td>4</td>\n",
              "      <td>5</td>\n",
              "      <td>RJ</td>\n",
              "    </tr>\n",
              "  </tbody>\n",
              "</table>\n",
              "</div>"
            ],
            "text/plain": [
              "                                     id  ... state_initials\n",
              "0  b0bd826e-df57-4ebc-bba2-0e2e647f545a  ...             RJ\n",
              "\n",
              "[1 rows x 6 columns]"
            ]
          },
          "metadata": {
            "tags": []
          },
          "execution_count": 160
        }
      ]
    }
  ]
}